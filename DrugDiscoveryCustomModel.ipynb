{
 "cells": [
  {
   "cell_type": "markdown",
   "id": "207b6e39-74d3-4251-b192-272678bca9bf",
   "metadata": {},
   "source": [
    "##### Import pytorch geometric libraries to create graph structure of molecules "
   ]
  },
  {
   "cell_type": "code",
   "execution_count": 146,
   "id": "fa34bfb7-15f2-41c7-a8b6-c822d7264bc3",
   "metadata": {},
   "outputs": [],
   "source": [
    "#!pip install networkx\n",
    "#!pip install torch-scatter==2.0.9 -f https://data.pyg.org/whl/torch-1.10.0+cu113.html\n",
    "#!pip install torch-sparse==0.6.13 -f https://data.pyg.org/whl/torch-1.10.0+cu113.html\n",
    "#!pip install torch-geometric==2.0.2 -f https://data.pyg.org/whl/torch-1.10.0+cu113.html\n",
    "#!pip install torch==1.10.0+cu111 -f https://download.pytorch.org/whl/cu111/torch_stable.html\n",
    "#!pip install decorator==5.0.9"
   ]
  },
  {
   "cell_type": "code",
   "execution_count": 1,
   "id": "133731ac-8897-4827-a993-1d48e5bdd164",
   "metadata": {},
   "outputs": [],
   "source": [
    "import torch.nn as nn\n",
    "import numpy as np\n",
    "import torch\n",
    "from torch_geometric.datasets import QM9\n",
    "from torch_geometric.loader import DataLoader\n",
    "from torch_geometric.nn import NNConv, global_add_pool\n",
    "import torch.nn.functional as F\n",
    "import pickle"
   ]
  },
  {
   "cell_type": "code",
   "execution_count": 41,
   "id": "c6589a41-18c6-4d46-b7d3-7f774a2d1746",
   "metadata": {},
   "outputs": [],
   "source": [
    "### added for testing\n",
    "with open('smilesDataNew.pkl', 'rb') as f:\n",
    "    data_list = pickle.load(f)"
   ]
  },
  {
   "cell_type": "code",
   "execution_count": 42,
   "id": "8a4a6429-8b87-402a-984c-bef9a14713d2",
   "metadata": {},
   "outputs": [],
   "source": [
    "### added for testing\n",
    "#with open('geometricData.pkl', 'rb') as f:\n",
    "#    data_list = pickle.load(f)"
   ]
  },
  {
   "cell_type": "code",
   "execution_count": 43,
   "id": "04c4f15f-050e-43de-b5bc-be26042603ee",
   "metadata": {},
   "outputs": [
    {
     "name": "stdout",
     "output_type": "stream",
     "text": [
      "Data(x=[20, 79], edge_index=[2, 40], edge_attr=[40, 10], y=[1])\n"
     ]
    }
   ],
   "source": [
    "print(data_list[0])\n"
   ]
  },
  {
   "cell_type": "code",
   "execution_count": 44,
   "id": "a6b6b143-a9c5-430e-b1e2-75ab1397bc19",
   "metadata": {},
   "outputs": [],
   "source": [
    "#It is deep chem data\n",
    "#dset = QM9('.') \n",
    "#data = dset[8]\n",
    "#print(f'Total number of molecules : \\n{len(dset)}\\n')\n",
    "#print(f'Graph representation of molecule : \\n{data}\\n')\n",
    "#print(f'Edge matrix : \\n{data.edge_attr}\\n')\n",
    "\n",
    "# the atomic number of each atom can add attributes\n",
    "#data.new_attribute = torch.tensor([1, 2, 3]) \n",
    "#print(f'Graph representation of molecule with new attributes : \\n{data}\\n')\n",
    "\n",
    "# can move all attributes between devices\n",
    "#device = torch.device(\n",
    "#    \"cuda:0\" if torch.cuda.is_available() else \"cpu\"\n",
    "#)\n",
    "#data.to(device)\n",
    "\n",
    "#print(f'Is the data new attribute is moved to cude : \\n{data.new_attribute.is_cuda}\\n')"
   ]
  },
  {
   "cell_type": "code",
   "execution_count": 83,
   "id": "57685000-723a-4e13-ae9c-9714dbbd4b18",
   "metadata": {},
   "outputs": [],
   "source": [
    "class ExampleNet(torch.nn.Module):\n",
    "    def __init__(self, num_node_features, num_edge_features):\n",
    "        super().__init__()\n",
    "        conv1_net = nn.Sequential(\n",
    "            nn.Linear(num_edge_features, 32),\n",
    "            nn.ReLU(),\n",
    "            nn.Linear(32, num_node_features*32))\n",
    "        conv2_net = nn.Sequential(\n",
    "            nn.Linear(num_edge_features, 32),\n",
    "            nn.ReLU(),\n",
    "            nn.Linear(32, 32*16))\n",
    "        self.conv1 = NNConv(num_node_features, 32, conv1_net)\n",
    "        self.conv2 = NNConv(32,16, conv2_net)\n",
    "        self.fc_1 = nn.Linear(16, 32)\n",
    "        self.out = nn.Linear(32, 1)\n",
    "    def forward(self, data):\n",
    "        batch, x, edge_index, edge_attr = (\n",
    "            data.batch, data.x, data.edge_index, data.edge_attr)\n",
    "        # First graph conv layer\n",
    "        #print(x[0].item())\n",
    "        x = F.relu(self.conv1(x, edge_index, edge_attr).float())\n",
    "        # Second graph conv layer\n",
    "        x = F.relu(self.conv2(x, edge_index, edge_attr).float())\n",
    "        x = global_add_pool(x,batch)\n",
    "        x = F.relu(self.fc_1(x))\n",
    "        #output = F.log_softmax(self.out(x), dim=1)\n",
    "        output = torch.sigmoid(self.out(x))\n",
    "        \n",
    "        #output = self.out(x)\n",
    "        return output"
   ]
  },
  {
   "cell_type": "markdown",
   "id": "a08dad03-cef6-47ed-ab2e-88a1256df3fa",
   "metadata": {},
   "source": [
    "#### We divide the QM9 molecule dataset in train, test and validation dataset"
   ]
  },
  {
   "cell_type": "code",
   "execution_count": 84,
   "id": "267aeb9d-a285-4ec8-aecf-d46641d17439",
   "metadata": {},
   "outputs": [],
   "source": [
    "y_custom = []\n",
    "for i in range(0, len(data_list)):\n",
    "    #print('hi')\n",
    "    y_custom.append(data_list[i].y.item())\n",
    "y_custom = np.asarray(y_custom)"
   ]
  },
  {
   "cell_type": "code",
   "execution_count": 85,
   "id": "345b118c-61f8-41d9-8040-009a74835e07",
   "metadata": {},
   "outputs": [
    {
     "name": "stdout",
     "output_type": "stream",
     "text": [
      "[0. 1.]\n",
      "[192124   1590]\n"
     ]
    }
   ],
   "source": [
    "values, counts = np.unique(y_custom, return_counts=True)\n",
    "print(values)\n",
    "print(counts)"
   ]
  },
  {
   "cell_type": "code",
   "execution_count": 86,
   "id": "e5f8ce3a-eb0a-4a85-bb3a-2fffc711cc3d",
   "metadata": {},
   "outputs": [
    {
     "data": {
      "text/plain": [
       "13075.6"
      ]
     },
     "execution_count": 86,
     "metadata": {},
     "output_type": "execute_result"
    }
   ],
   "source": [
    "from sklearn.model_selection import train_test_split\n",
    "#X_train, X_test, y_train, y_test = train_test_split(data_list, y_custom, stratify=y_custom, test_size = 0.2, random_state=42)\n",
    "\n",
    "X_train, X_test, y_train, y_test = train_test_split(data_list, y_custom, stratify=y_custom, test_size = 0.1, random_state=42)\n",
    "\n",
    "X_train, X_val, y_train, y_val = train_test_split(X_train, y_train, stratify=y_train, test_size=0.25, random_state=1) # 0.25 x 0.8 = 0.2\n",
    "\n",
    "#train_set, valid_set, test_set = random_split(\n",
    "#    data_list,[15000, 2000 , 2128])\n",
    "trainloader = DataLoader(X_train, batch_size=256, shuffle=True)\n",
    "validloader = DataLoader(X_val, batch_size=int(len(y_val)/10), shuffle=True)\n",
    "testloader = DataLoader(X_test, batch_size=256, shuffle=True)\n",
    "len(y_train)/10\n"
   ]
  },
  {
   "cell_type": "code",
   "execution_count": 87,
   "id": "103c8287-89cd-4ab0-8b0e-f65b8d742002",
   "metadata": {},
   "outputs": [],
   "source": [
    "#from torch.utils.data import random_split\n",
    "#train_set, valid_set, test_set = random_split(\n",
    "#    dset,[110000, 10831, 10000])\n",
    "#trainloader = DataLoader(train_set, batch_size=32, shuffle=True)\n",
    "#validloader = DataLoader(valid_set, batch_size=32, shuffle=True)\n",
    "#testloader = DataLoader(test_set, batch_size=32, shuffle=True)\n"
   ]
  },
  {
   "cell_type": "markdown",
   "id": "d7371a16-3e89-4649-9f30-63af41a02a39",
   "metadata": {},
   "source": [
    "##### Initialize the network"
   ]
  },
  {
   "cell_type": "code",
   "execution_count": 88,
   "id": "8ab3b38d-9a7f-4015-b84f-0dcf991ae6de",
   "metadata": {},
   "outputs": [],
   "source": [
    "\n",
    "#qm9_node_feats, qm9_edge_feats = 11, 4\n",
    "#qm9_node_feats, qm9_edge_feats = 9, 3\n",
    "qm9_node_feats, qm9_edge_feats = 79, 10\n",
    "net = ExampleNet(qm9_node_feats, qm9_edge_feats)\n",
    "# initialize an optimizer with some reasonable parameters\n",
    "optimizer = torch.optim.Adam(\n",
    "    net.parameters(), lr=0.001)\n",
    "epochs = 100\n",
    "target_idx = 1 # index position of the polarizability label\n",
    "device = torch.device(\"cuda:0\" if\n",
    "                      torch.cuda.is_available() else \"cpu\")\n",
    "net.to(device)\n",
    "criterion = nn.BCELoss()"
   ]
  },
  {
   "cell_type": "code",
   "execution_count": null,
   "id": "7a152c02-1b97-46f0-818b-40668bdefc96",
   "metadata": {},
   "outputs": [],
   "source": []
  },
  {
   "cell_type": "markdown",
   "id": "b5fe13a6-9ef4-4b77-bd0d-cccd33219744",
   "metadata": {},
   "source": [
    "##### Training the network"
   ]
  },
  {
   "cell_type": "code",
   "execution_count": 89,
   "id": "e502c1a4-eaa9-4355-96f1-92e2e83dcda5",
   "metadata": {},
   "outputs": [
    {
     "name": "stdout",
     "output_type": "stream",
     "text": [
      "Epochs: 0 | epoch avg. loss: 0.00 | validation avg. loss: 0.00 |validation acc.: 60.87\n",
      "Epochs: 10 | epoch avg. loss: 0.00 | validation avg. loss: 0.00 |validation acc.: 62.77\n",
      "Epochs: 20 | epoch avg. loss: 0.00 | validation avg. loss: 0.00 |validation acc.: 77.11\n",
      "Epochs: 30 | epoch avg. loss: 0.00 | validation avg. loss: 0.00 |validation acc.: 72.12\n",
      "Epochs: 40 | epoch avg. loss: 0.00 | validation avg. loss: 0.00 |validation acc.: 90.48\n",
      "Epochs: 50 | epoch avg. loss: 0.00 | validation avg. loss: 0.00 |validation acc.: 83.57\n",
      "Epochs: 60 | epoch avg. loss: 0.00 | validation avg. loss: 0.00 |validation acc.: 91.27\n",
      "Epochs: 70 | epoch avg. loss: 0.00 | validation avg. loss: 0.00 |validation acc.: 87.67\n",
      "Epochs: 90 | epoch avg. loss: 0.00 | validation avg. loss: 0.00 |validation acc.: 92.49\n"
     ]
    }
   ],
   "source": [
    "loss_list = []\n",
    "valloss_list = []\n",
    "val_acc_list = []\n",
    "for total_epochs in range(epochs):\n",
    "    epoch_loss = 0\n",
    "    total_graphs = 0\n",
    "    net.train()\n",
    "    train_avg_loss = 0\n",
    "    val_avg_loss = 0\n",
    "    val_acc = 0\n",
    "    for batch in trainloader:\n",
    "        batch.to(device)\n",
    "        optimizer.zero_grad()\n",
    "        output = net(batch)\n",
    "        loss = criterion(output,batch.y.unsqueeze(1))\n",
    "        #loss = F.mse_loss(\n",
    "            #output,batch.y[:,target_idx].unsqueeze(1))\n",
    "           # output,batch.y.unsqueeze(1))\n",
    "        loss.backward()\n",
    "        epoch_loss += loss.item()\n",
    "        #print(epoch_loss)\n",
    "        total_graphs += batch.num_graphs\n",
    "        optimizer.step()\n",
    "    train_avg_loss = epoch_loss / total_graphs\n",
    "    #print(train_avg_loss)\n",
    "    if total_epochs % 10 == 0:\n",
    "        \n",
    "        val_loss = 0\n",
    "        total_graphs = 0   \n",
    "        net.eval()\n",
    "        predictions = []\n",
    "        real = []\n",
    "        for batch in validloader:\n",
    "            batch.to(device)\n",
    "            #print('hee')\n",
    "            output = net(batch)\n",
    "            loss = criterion(output,batch.y.unsqueeze(1))\n",
    "            #loss = F.mse_loss(\n",
    "            #    #output,batch.y[:,target_idx].unsqueeze(1))\n",
    "            #    output,batch.y.unsqueeze(1))\n",
    "            val_loss += loss.item()\n",
    "            total_graphs += batch.num_graphs\n",
    "\n",
    "            prediction = output.detach().cpu().numpy()\n",
    "            predictions.append(prediction)\n",
    "            real.append(batch.y.detach().cpu().numpy())\n",
    "        real = np.concatenate(real)\n",
    "        predictions = np.concatenate(predictions)\n",
    "        predictions = (predictions>0.01)\n",
    "        #error = 0\n",
    "        errorCount = 0\n",
    "        #print('here')\n",
    "        for i in range(len(predictions)):\n",
    "            errorCount = errorCount + abs(predictions[i]-real[i])\n",
    "        #print('he')\n",
    "        val_acc = ((len(predictions) - errorCount)/len(predictions))*100\n",
    "        #val_acc = 100 - ((predictions - real)/len(predictions))*100\n",
    "        val_avg_loss = val_loss / total_graphs\n",
    "        #print(val_acc[0])\n",
    "        valloss_list.append(val_avg_loss)\n",
    "        val_acc_list.append(val_acc)\n",
    "        loss_list.append(train_avg_loss)\n",
    "        #if total_epochs % 10 == 0:\n",
    "        print(f\"Epochs: {total_epochs} | \"\n",
    "            f\"epoch avg. loss: {train_avg_loss:.2f} | \"\n",
    "            f\"validation avg. loss: {val_avg_loss:.2f} |\"\n",
    "            f\"validation acc.: {val_acc[0]:.2f}\")\n"
   ]
  },
  {
   "cell_type": "code",
   "execution_count": 90,
   "id": "08d31a48-7c5e-46f8-af11-67fa40be92e3",
   "metadata": {},
   "outputs": [
    {
     "data": {
      "image/png": "[encoded data removed]",
      "text/plain": [
       "<Figure size 640x480 with 1 Axes>"
      ]
     },
     "metadata": {},
     "output_type": "display_data"
    }
   ],
   "source": [
    "import matplotlib.pyplot as plt\n",
    "step = np.linspace(0,10, 10)\n",
    "plt.plot(step,np.array(val_acc_list))\n",
    "# Add title and axis names\n",
    "plt.title('Epoch vs Accuracy')\n",
    "plt.xlabel('Epoch')\n",
    "plt.ylabel('Accuracy')\n",
    "  \n",
    "# Show graph\n",
    "plt.show()"
   ]
  },
  {
   "cell_type": "code",
   "execution_count": null,
   "id": "a9d09431-9a03-494b-a56d-f44849cbd7f2",
   "metadata": {},
   "outputs": [],
   "source": [
    "import pickle\n",
    "with open('gnnValAcc.pkl', 'wb') as f:\n",
    "    pickle.dump(val_acc_list, f)\n",
    "\n",
    "with open('gnnValloss.pkl', 'wb') as f:\n",
    "    pickle.dump(valloss_list, f)"
   ]
  },
  {
   "cell_type": "code",
   "execution_count": 93,
   "id": "d9540cca-7ba9-47aa-8d3a-0b78c89ec19d",
   "metadata": {},
   "outputs": [
    {
     "data": {
      "image/png": "[encoded data removed]",
      "text/plain": [
       "<Figure size 640x480 with 1 Axes>"
      ]
     },
     "metadata": {},
     "output_type": "display_data"
    }
   ],
   "source": [
    "import matplotlib.pyplot as plt\n",
    "step = np.linspace(0,10, 10)\n",
    "plt.plot(step,np.array(loss_list))\n",
    "\n",
    "# Add title and axis names\n",
    "plt.title('Epoch vs Loss')\n",
    "plt.xlabel('Epoch')\n",
    "plt.ylabel('Loss')\n",
    "  \n",
    "# Show graph\n",
    "plt.show()"
   ]
  },
  {
   "cell_type": "markdown",
   "id": "146f783f-6ac6-46fa-afdf-563393a12cb8",
   "metadata": {},
   "source": [
    "##### Predicting ouput"
   ]
  },
  {
   "cell_type": "code",
   "execution_count": 128,
   "id": "725e7423-8ff1-477f-a99f-7348879204df",
   "metadata": {},
   "outputs": [],
   "source": [
    "net.eval()\n",
    "predictions = []\n",
    "real = []\n",
    "for batch in testloader:\n",
    "    output = net(batch.to(device))\n",
    "    prediction = output.detach().cpu().numpy()\n",
    "    predictions.append(prediction)\n",
    "    #print(prediction)\n",
    "    real.append(\n",
    "        batch.y.detach().cpu().numpy())\n",
    "real = np.concatenate(real)\n",
    "predictions = np.concatenate(predictions)"
   ]
  },
  {
   "cell_type": "code",
   "execution_count": 129,
   "id": "f7afd86d-fc26-4ea8-bc70-ef842c44d0ed",
   "metadata": {},
   "outputs": [],
   "source": [
    "predictions = np.sort(predictions)"
   ]
  },
  {
   "cell_type": "code",
   "execution_count": 130,
   "id": "d266b37e-c07d-457f-bc20-0d9550e9b192",
   "metadata": {},
   "outputs": [],
   "source": [
    "#print(predictions[19362:19372])\n",
    "#print(predictions[0:10])\n",
    "predictions = (predictions>0.008)\n",
    "#print(predictions)"
   ]
  },
  {
   "cell_type": "code",
   "execution_count": 131,
   "id": "451aeec4-9921-4611-9aff-5c6106da845b",
   "metadata": {},
   "outputs": [
    {
     "name": "stdout",
     "output_type": "stream",
     "text": [
      "Actual Unique values for testing data: [False  True]\n",
      "Actual Count of zeros and ones for testing data: [17437  1935]\n"
     ]
    }
   ],
   "source": [
    "unique, counts = np.unique(predictions, return_counts=True)\n",
    "print(f'Actual Unique values for testing data: {unique}')\n",
    "print(f'Actual Count of zeros and ones for testing data: {counts}')"
   ]
  },
  {
   "cell_type": "code",
   "execution_count": 132,
   "id": "7b64dbfc-3b92-42a9-b161-bc8e79ad5441",
   "metadata": {},
   "outputs": [
    {
     "data": {
      "image/png": "[encoded data removed]",
      "text/plain": [
       "<Figure size 640x480 with 2 Axes>"
      ]
     },
     "metadata": {},
     "output_type": "display_data"
    }
   ],
   "source": [
    "import matplotlib.pyplot as plt\n",
    "plt.style.use('default')\n",
    "\n",
    "from sklearn.datasets import make_classification\n",
    "from sklearn.metrics import confusion_matrix, ConfusionMatrixDisplay\n",
    "\n",
    "cm = confusion_matrix(real, predictions, labels=[0, 1])\n",
    "disp = ConfusionMatrixDisplay(confusion_matrix=cm,\n",
    "                              display_labels=[0, 1])\n",
    "disp.plot()\n",
    "plt.yticks(ticks = [0,1], labels=['Inactive', 'Active'])\n",
    "plt.xticks(ticks = [0,1], labels=['Inactive', 'Active'])\n",
    "plt.title(\"Confusion Matrix - Predictions of Biological Activity\\n\")\n",
    "plt.show()"
   ]
  },
  {
   "cell_type": "markdown",
   "id": "7e6733d9-d434-4168-a22f-085cd5e0fd14",
   "metadata": {},
   "source": [
    "#### FFN - to be removed"
   ]
  },
  {
   "cell_type": "code",
   "execution_count": 133,
   "id": "ccf0146b-12b4-4996-8eb2-8743374c366a",
   "metadata": {},
   "outputs": [],
   "source": [
    "import torch\n",
    "import torch.nn as nn # All neural network modules, nn.Linear, nn.Conv2d, BatchNorm, Loss functions\n",
    "import torch.optim as optim # For all Optimization algorithms, SGD, Adam, etc.\n",
    "import torch.nn.functional as F # All functions that don't have any parameters\n",
    "from torch.utils.data import DataLoader # Gives easier dataset managment and creates mini batches\n",
    "import torchvision.datasets as datasets # Has standard datasets we can import in a nice and easy way\n",
    "import torchvision.transforms as transforms # Transformations we can perform on our dataset\n",
    "from torch.utils.data import TensorDataset\n",
    "import pandas as pd\n",
    "import numpy as np\n",
    "import torch.utils.data as data_utils\n",
    "from sklearn.model_selection import train_test_split\n"
   ]
  },
  {
   "cell_type": "code",
   "execution_count": 134,
   "id": "a44eebda-0b3d-4fb2-8e35-cdef4af97085",
   "metadata": {},
   "outputs": [
    {
     "name": "stdout",
     "output_type": "stream",
     "text": [
      "All data \n",
      "        0  1  2  3  4  5  6  7  8  9  ...  2039  2040  2041  2042  2043  2044  \\\n",
      "0       1  1  1  1  1  0  0  0  1  0  ...     0     1     1     0     0     0   \n",
      "1       0  0  0  0  1  0  1  0  0  0  ...     1     0     0     0     0     0   \n",
      "2       1  0  0  0  1  0  1  0  0  0  ...     0     0     0     0     0     1   \n",
      "3       0  0  1  0  1  1  1  0  0  0  ...     1     0     0     0     0     0   \n",
      "4       1  1  1  0  1  1  1  0  0  0  ...     0     1     0     0     0     0   \n",
      "...    .. .. .. .. .. .. .. .. .. ..  ...   ...   ...   ...   ...   ...   ...   \n",
      "193709  1  0  1  1  1  0  1  0  0  0  ...     0     0     0     0     0     0   \n",
      "193710  1  1  1  0  1  0  1  0  1  0  ...     1     1     0     0     0     0   \n",
      "193711  1  1  1  0  1  0  0  0  1  0  ...     0     1     0     0     0     0   \n",
      "193712  1  1  1  1  1  0  0  0  0  0  ...     0     1     0     0     0     0   \n",
      "193713  1  0  1  1  1  1  1  0  0  0  ...     0     1     0     0     0     0   \n",
      "\n",
      "        2045  2046  2047  activity_label  \n",
      "0          0     0     0               0  \n",
      "1          0     0     0               0  \n",
      "2          0     0     0               0  \n",
      "3          0     0     0               0  \n",
      "4          0     0     0               1  \n",
      "...      ...   ...   ...             ...  \n",
      "193709     0     0     0               0  \n",
      "193710     0     0     0               0  \n",
      "193711     0     0     0               0  \n",
      "193712     0     0     0               0  \n",
      "193713     0     0     0               0  \n",
      "\n",
      "[193714 rows x 2049 columns]\n",
      "\n",
      "Train data \n",
      "        0  1  2  3  4  5  6  7  8  9  ...  2038  2039  2040  2041  2042  2043  \\\n",
      "0       1  1  1  1  1  0  0  0  1  0  ...     0     0     1     1     0     0   \n",
      "1       0  0  0  0  1  0  1  0  0  0  ...     0     1     0     0     0     0   \n",
      "2       1  0  0  0  1  0  1  0  0  0  ...     0     0     0     0     0     0   \n",
      "3       0  0  1  0  1  1  1  0  0  0  ...     0     1     0     0     0     0   \n",
      "4       1  1  1  0  1  1  1  0  0  0  ...     0     0     1     0     0     0   \n",
      "...    .. .. .. .. .. .. .. .. .. ..  ...   ...   ...   ...   ...   ...   ...   \n",
      "193709  1  0  1  1  1  0  1  0  0  0  ...     0     0     0     0     0     0   \n",
      "193710  1  1  1  0  1  0  1  0  1  0  ...     0     1     1     0     0     0   \n",
      "193711  1  1  1  0  1  0  0  0  1  0  ...     0     0     1     0     0     0   \n",
      "193712  1  1  1  1  1  0  0  0  0  0  ...     0     0     1     0     0     0   \n",
      "193713  1  0  1  1  1  1  1  0  0  0  ...     0     0     1     0     0     0   \n",
      "\n",
      "        2044  2045  2046  2047  \n",
      "0          0     0     0     0  \n",
      "1          0     0     0     0  \n",
      "2          1     0     0     0  \n",
      "3          0     0     0     0  \n",
      "4          0     0     0     0  \n",
      "...      ...   ...   ...   ...  \n",
      "193709     0     0     0     0  \n",
      "193710     0     0     0     0  \n",
      "193711     0     0     0     0  \n",
      "193712     0     0     0     0  \n",
      "193713     0     0     0     0  \n",
      "\n",
      "[193714 rows x 2048 columns]\n",
      "\n",
      "Labels \n",
      "0         0\n",
      "1         0\n",
      "2         0\n",
      "3         0\n",
      "4         1\n",
      "         ..\n",
      "193709    0\n",
      "193710    0\n",
      "193711    0\n",
      "193712    0\n",
      "193713    0\n",
      "Name: activity_label, Length: 193714, dtype: int64\n"
     ]
    }
   ],
   "source": [
    "dataframe_final = pd.read_csv(\"fingerPrintDataAllChem2048\", index_col=False).drop([\"Unnamed: 0\"], axis =1)\n",
    "print(f'All data \\n{dataframe_final}')\n",
    "\n",
    "X_dataframe = dataframe_final.iloc[:,:dataframe_final.shape[1]-1]\n",
    "print(f'\\nTrain data \\n{X_dataframe}')\n",
    "\n",
    "y_dataframe = dataframe_final.iloc[:,-1]\n",
    "print(f'\\nLabels \\n{y_dataframe}')\n",
    "\n",
    "X_train, X_test, y_train, y_test = train_test_split(X_dataframe, y_dataframe, stratify=y_dataframe, test_size = 0.2, random_state=42)\n",
    "\n",
    "\n",
    "batch_size = 256\n",
    "X_train_torch = torch.from_numpy(X_train.values.astype(np.float32))\n",
    "y_train_torch = torch.from_numpy(y_train.values.astype(np.float32))\n",
    "X_test_torch = torch.from_numpy(X_test.values.astype(np.float32))\n",
    "y_test_torch = torch.from_numpy(y_test.values.astype(np.float32))\n",
    "\n",
    "train_ds = TensorDataset(X_train_torch, y_train_torch)\n",
    "train_loader = DataLoader(train_ds, batch_size, shuffle=True)\n",
    "\n",
    "test_ds = TensorDataset(X_test_torch, y_test_torch)\n",
    "test_loader = DataLoader(test_ds, batch_size, shuffle=True)"
   ]
  },
  {
   "cell_type": "code",
   "execution_count": 44,
   "id": "44f86e7a-c6da-4e61-bdff-a20cc204e1eb",
   "metadata": {},
   "outputs": [],
   "source": [
    "class NN(nn.Module):\n",
    "    def __init__(self, input_size, num_classes):\n",
    "        super(NN, self).__init__()\n",
    "        self.fc1 = nn.Linear(input_size, 1024)\n",
    "        self.dout1 = nn.Dropout(0.2)\n",
    "        self.fc2 = nn.Linear(1024, 250)\n",
    "        self.dout2 = nn.Dropout(0.2)\n",
    "        self.fc3 = nn.Linear(250, num_classes)\n",
    "\n",
    "    def forward(self, x):\n",
    "        x = F.relu(self.fc1(x))\n",
    "        x = self.dout1(x)\n",
    "        x = F.relu(self.fc2(x))\n",
    "        x = self.dout2(x)\n",
    "        x = self.fc3(x)\n",
    "        return x "
   ]
  },
  {
   "cell_type": "code",
   "execution_count": 138,
   "id": "fe73b1c2-db6c-44c8-a510-97087889732d",
   "metadata": {},
   "outputs": [],
   "source": [
    "device = torch.device(\"cuda\" if torch.cuda.is_available() else \"cpu\")\n",
    "input_size = 2048\n",
    "num_classes = 2\n",
    "learning_rate = 0.0001\n",
    "#num_epochs = 50\n",
    "\n",
    "batch_size = 256\n",
    "n_iters = 70000\n",
    "num_epochs = n_iters / (len(train_ds) / batch_size)\n",
    "num_epochs = int(num_epochs)\n",
    "\n",
    "model = NN(input_size=input_size, num_classes=num_classes).to(device)\n",
    "criterion = nn.CrossEntropyLoss()\n",
    "optimizer = optim.Adam(model.parameters(), lr=learning_rate)"
   ]
  },
  {
   "cell_type": "code",
   "execution_count": 139,
   "id": "bead3622-f7bc-45b4-901a-89460770768f",
   "metadata": {},
   "outputs": [
    {
     "name": "stdout",
     "output_type": "stream",
     "text": [
      "Epoch 0  Loss 0.0751\n",
      "Epoch 10  Loss 0.0001\n",
      "Epoch 20  Loss 0.0000\n",
      "Epoch 30  Loss 0.0000\n",
      "Epoch 40  Loss 0.0000\n",
      "Epoch 50  Loss 0.0000\n",
      "Epoch 60  Loss 0.0002\n",
      "Epoch 70  Loss 0.0000\n",
      "Epoch 80  Loss 0.0000\n",
      "Epoch 90  Loss 0.0001\n",
      "Epoch 100  Loss 0.0000\n",
      "Epoch 110  Loss 0.0000\n"
     ]
    }
   ],
   "source": [
    "for epoch in range(num_epochs):\n",
    "    #print(f\"Epoch: {epoch}\")\n",
    "    for batch_idx, (data, targets) in enumerate(train_loader):\n",
    "        # Get data to cuda if possible\n",
    "        data = data.to(device=device)\n",
    "        targets = targets.to(device=device)\n",
    "        targets=targets.to(torch.int64)\n",
    "\n",
    "        # forward propagation\n",
    "        scores = model(data)\n",
    "        #print(scores)\n",
    "        loss = criterion(scores, targets)\n",
    "        \n",
    "        # zero previous gradients\n",
    "        optimizer.zero_grad()\n",
    "        \n",
    "        # back-propagation\n",
    "        loss.backward()\n",
    "\n",
    "        # gradient descent or adam step\n",
    "        optimizer.step()\n",
    "    if epoch % 10 == 0:\n",
    "        print(f'Epoch {epoch}  Loss {loss.item():.4f}')"
   ]
  },
  {
   "cell_type": "code",
   "execution_count": 140,
   "id": "279eddf7-75bb-4c7e-9cc6-8a9a205506c8",
   "metadata": {},
   "outputs": [],
   "source": [
    "def check_accuracy(loader, model):\n",
    "    num_correct = 0\n",
    "    num_samples = 0\n",
    "    model.eval()\n",
    "    predictionArr = []\n",
    "    with torch.no_grad():\n",
    "        for x, y in loader:\n",
    "            x = x.to(device=device)\n",
    "            y = y.to(device=device)\n",
    "            x = x.reshape(x.shape[0], -1)\n",
    "\n",
    "            scores = model(x)\n",
    "            _, predictions1 = scores.max(1)\n",
    "            predictionArr.append(predictions1)\n",
    "            num_correct += (predictions1 == y).sum()\n",
    "            num_samples += predictions1.size(0)\n",
    "\n",
    "        print(\n",
    "            f\"Got {num_correct} / {num_samples} with accuracy\"\n",
    "            f\" {float(num_correct) / float(num_samples) * 100:.2f}\"\n",
    "        )\n",
    "\n",
    "    model.train()\n",
    "    return predictionArr\n"
   ]
  },
  {
   "cell_type": "code",
   "execution_count": 141,
   "id": "c9e72784-c334-45c7-af93-9a332d2adf2a",
   "metadata": {},
   "outputs": [
    {
     "name": "stdout",
     "output_type": "stream",
     "text": [
      "Got 154953 / 154971 with accuracy 99.99\n",
      "Got 38329 / 38743 with accuracy 98.93\n"
     ]
    }
   ],
   "source": [
    "predictions_train = check_accuracy(train_loader, model)\n",
    "predictions_test = check_accuracy(test_loader, model)\n"
   ]
  },
  {
   "cell_type": "code",
   "execution_count": 142,
   "id": "0ad37442-33f2-4114-ba0a-a3115d37cfd5",
   "metadata": {},
   "outputs": [],
   "source": [
    "finalTrainPredictions = []\n",
    "for t,l in enumerate(predictions_train):\n",
    "    for p in l:\n",
    "        finalTrainPredictions.append(p.cpu().detach().numpy())\n",
    "        \n",
    "finalTestPredictions = []\n",
    "for t,l in enumerate(predictions_test):\n",
    "    for p in l:\n",
    "        finalTestPredictions.append(p.cpu().detach().numpy())\n",
    "\n",
    "finalTrainPredictions = np.array(finalTrainPredictions)\n",
    "finalTestPredictions = np.array(finalTestPredictions)\n"
   ]
  },
  {
   "cell_type": "code",
   "execution_count": 143,
   "id": "db0de552-ed1c-45aa-833a-df23b7ff3b61",
   "metadata": {},
   "outputs": [
    {
     "data": {
      "image/png": "[encoded data removed]",
      "text/plain": [
       "<Figure size 640x480 with 2 Axes>"
      ]
     },
     "metadata": {},
     "output_type": "display_data"
    }
   ],
   "source": [
    "\n",
    "# https://scikit-learn.org/stable/modules/generated/sklearn.metrics.ConfusionMatrixDisplay.html\n",
    "m = np.array(y_test)\n",
    "import matplotlib.pyplot as plt\n",
    "plt.style.use('default')\n",
    "\n",
    "from sklearn.datasets import make_classification\n",
    "from sklearn.metrics import confusion_matrix, ConfusionMatrixDisplay\n",
    "\n",
    "cm = confusion_matrix(m, finalTestPredictions, labels=[0, 1])\n",
    "disp = ConfusionMatrixDisplay(confusion_matrix=cm,\n",
    "                              display_labels=[0, 1])\n",
    "disp.plot()\n",
    "plt.yticks(ticks = [0,1], labels=['Inactive', 'Active'])\n",
    "plt.xticks(ticks = [0,1], labels=['Inactive', 'Active'])\n",
    "plt.title(\"Confusion Matrix - Predictions of Biological Activity\\n\")\n",
    "plt.show()"
   ]
  },
  {
   "cell_type": "markdown",
   "id": "6c2f3d53-105c-4293-a040-72467e7cd17d",
   "metadata": {},
   "source": [
    "### SVM"
   ]
  },
  {
   "cell_type": "code",
   "execution_count": 144,
   "id": "132274d4-09e1-405e-9816-5d0030f6037b",
   "metadata": {},
   "outputs": [],
   "source": [
    "with open('svm_y_predict.pkl', 'rb') as f:\n",
    "    y_predict = pickle.load(f)\n",
    "with open('svm_y_test.pkl', 'rb') as f:\n",
    "    y_actual = pickle.load(f)"
   ]
  },
  {
   "cell_type": "code",
   "execution_count": 145,
   "id": "d38068f6-89d3-403f-80b1-b834b038f641",
   "metadata": {},
   "outputs": [
    {
     "data": {
      "image/png": "[encoded data removed]",
      "text/plain": [
       "<Figure size 1000x500 with 1 Axes>"
      ]
     },
     "metadata": {},
     "output_type": "display_data"
    }
   ],
   "source": [
    "import seaborn as sns\n",
    "import matplotlib.pyplot as plt\n",
    "%matplotlib inline\n",
    "from sklearn import metrics\n",
    "gnn_false_positive_rate,gnn_true_positive_rate, gnn_threshold = metrics.roc_curve(real,predictions)\n",
    "ffn_false_positive_rate,ffn_true_positive_rate, ffn_threshold = metrics.roc_curve(m,finalTestPredictions)\n",
    "svm_false_positive_rate,svm_true_positive_rate, svm_threshold = metrics.roc_curve(y_actual,y_predict)\n",
    "sns.set_style('whitegrid')\n",
    "plt.figure(figsize=(10,5))\n",
    "plt.title('Reciver Operating Characterstic Curve')\n",
    "plt.plot(gnn_false_positive_rate,gnn_true_positive_rate,label='Graph Neural network')\n",
    "plt.plot(ffn_false_positive_rate,ffn_true_positive_rate,label='Feed forward Network')\n",
    "plt.plot(svm_false_positive_rate,svm_true_positive_rate,label='SVM')\n",
    "#plt.plot(nb_false_positive_rate,nb_true_positive_rate,label='Naive Bayes')\n",
    "#plt.plot(rf_false_positive_rate,rf_true_positive_rate,label='Random Forest')\n",
    "#plt.plot(knn_false_positive_rate,knn_true_positive_rate,label='K-Nearest Neighbor')\n",
    "#plt.plot(dt_false_positive_rate,dt_true_positive_rate,label='Desion Tree')\n",
    "#plt.plot(svc_false_positive_rate,svc_true_positive_rate,label='Support Vector Classifier')\n",
    "#plt.plot(sgd_false_positive_rate,sgd_true_positive_rate,label='Stochastic Gradient Descent')\n",
    "plt.plot([0,1],ls='--')\n",
    "plt.plot([0,0],[1,0],c='.5')\n",
    "plt.plot([1,1],c='.5')\n",
    "plt.ylabel('True positive rate')\n",
    "plt.xlabel('False positive rate')\n",
    "plt.legend()\n",
    "plt.show()"
   ]
  },
  {
   "cell_type": "code",
   "execution_count": null,
   "id": "b4028908-9d2e-472d-b723-8b5a1ce04233",
   "metadata": {},
   "outputs": [],
   "source": []
  },
  {
   "cell_type": "markdown",
   "id": "e560e269-c1e4-47e9-b46b-946d96f1deab",
   "metadata": {},
   "source": [
    "#### Model comparison for different number of layers:"
   ]
  },
  {
   "cell_type": "code",
   "execution_count": 3,
   "id": "6f3fbabc-c6fb-4e3c-8c5b-df153109a4b9",
   "metadata": {},
   "outputs": [],
   "source": [
    "### added for testing\n",
    "import pickle\n",
    "with open('smilesDataNew.pkl', 'rb') as f:\n",
    "    data_list = pickle.load(f)\n"
   ]
  },
  {
   "cell_type": "code",
   "execution_count": 4,
   "id": "51f1eea4-8790-4bc7-89cd-e4be1bc994e1",
   "metadata": {},
   "outputs": [],
   "source": [
    "class ExampleNet0(torch.nn.Module):\n",
    "    def __init__(self, num_node_features, num_edge_features):\n",
    "        super().__init__()\n",
    "        conv1_net = nn.Sequential(\n",
    "            nn.Linear(num_edge_features, 32),\n",
    "            nn.ReLU(),\n",
    "            nn.Linear(32, num_node_features*32))\n",
    "        conv2_net = nn.Sequential(\n",
    "            nn.Linear(num_edge_features, 32),\n",
    "            nn.ReLU(),\n",
    "            nn.Linear(32, 32*16))\n",
    "        self.conv1 = NNConv(num_node_features, 32, conv1_net)\n",
    "        self.conv2 = NNConv(32,16, conv2_net)\n",
    "        self.fc_1 = nn.Linear(16, 32)\n",
    "        self.out = nn.Linear(32, 1)\n",
    "    def forward(self, data):\n",
    "        batch, x, edge_index, edge_attr = (\n",
    "            data.batch, data.x, data.edge_index, data.edge_attr)\n",
    "        # First graph conv layer\n",
    "        #print(x[0].item())\n",
    "        x = F.relu(self.conv1(x, edge_index, edge_attr).float())\n",
    "        # Second graph conv layer\n",
    "        x = F.relu(self.conv2(x, edge_index, edge_attr).float())\n",
    "        x = global_add_pool(x,batch)\n",
    "        x = F.relu(self.fc_1(x))\n",
    "        #output = F.log_softmax(self.out(x), dim=1)\n",
    "        output = torch.sigmoid(self.out(x))\n",
    "        \n",
    "        #output = self.out(x)\n",
    "        return output"
   ]
  },
  {
   "cell_type": "code",
   "execution_count": 5,
   "id": "55b6d58b-a715-458d-af6d-8ec6366f8eb5",
   "metadata": {},
   "outputs": [],
   "source": [
    "class ExampleNet1(torch.nn.Module):\n",
    "    def __init__(self, num_node_features, num_edge_features):\n",
    "        super().__init__()\n",
    "        conv1_net = nn.Sequential(\n",
    "            nn.Linear(num_edge_features, 32),\n",
    "            nn.ReLU(),\n",
    "            nn.Linear(32, num_node_features*32))\n",
    "        conv2_net = nn.Sequential(\n",
    "            nn.Linear(num_edge_features, 32),\n",
    "            nn.ReLU(),\n",
    "            nn.Linear(32, 32*32))\n",
    "        conv3_net = nn.Sequential(\n",
    "            nn.Linear(num_edge_features, 32),\n",
    "            nn.ReLU(),\n",
    "            nn.Linear(32, 32*16))\n",
    "        self.conv1 = NNConv(num_node_features, 32, conv1_net)\n",
    "        self.conv2 = NNConv(32,32, conv2_net)\n",
    "        self.conv3 = NNConv(32,16, conv3_net)\n",
    "        self.fc_1 = nn.Linear(16, 32)\n",
    "        self.out = nn.Linear(32, 1)\n",
    "    def forward(self, data):\n",
    "        batch, x, edge_index, edge_attr = (\n",
    "            data.batch, data.x, data.edge_index, data.edge_attr)\n",
    "        # First graph conv layer\n",
    "        #print(x[0].item())\n",
    "        x = F.relu(self.conv1(x, edge_index, edge_attr).float())\n",
    "        # Second graph conv layer\n",
    "        x = F.relu(self.conv2(x, edge_index, edge_attr).float())\n",
    "        x = F.relu(self.conv3(x, edge_index, edge_attr).float())\n",
    "        x = global_add_pool(x,batch)\n",
    "        x = F.relu(self.fc_1(x))\n",
    "        #output = F.log_softmax(self.out(x), dim=1)\n",
    "        output = torch.sigmoid(self.out(x))\n",
    "        \n",
    "        #output = self.out(x)\n",
    "        return output"
   ]
  },
  {
   "cell_type": "code",
   "execution_count": 6,
   "id": "f53b92f5-d301-464e-ab27-030a4fd45611",
   "metadata": {},
   "outputs": [],
   "source": [
    "class ExampleNet2(torch.nn.Module):\n",
    "    def __init__(self, num_node_features, num_edge_features):\n",
    "        super().__init__()\n",
    "        conv1_net = nn.Sequential(\n",
    "            nn.Linear(num_edge_features, 32),\n",
    "            nn.ReLU(),\n",
    "            nn.Linear(32, num_node_features*32))\n",
    "        conv2_net = nn.Sequential(\n",
    "            nn.Linear(num_edge_features, 32),\n",
    "            nn.ReLU(),\n",
    "            nn.Linear(32, 32*32))\n",
    "        conv3_net = nn.Sequential(\n",
    "            nn.Linear(num_edge_features, 32),\n",
    "            nn.ReLU(),\n",
    "            nn.Linear(32, 32*32))\n",
    "        conv4_net = nn.Sequential(\n",
    "            nn.Linear(num_edge_features, 32),\n",
    "            nn.ReLU(),\n",
    "            nn.Linear(32, 32*16))\n",
    "        self.conv1 = NNConv(num_node_features, 32, conv1_net)\n",
    "        self.conv2 = NNConv(32,32, conv2_net)\n",
    "        self.conv3 = NNConv(32,32, conv3_net)\n",
    "        self.conv4 = NNConv(32,16, conv4_net)\n",
    "        self.fc_1 = nn.Linear(16, 32)\n",
    "        self.out = nn.Linear(32, 1)\n",
    "    def forward(self, data):\n",
    "        batch, x, edge_index, edge_attr = (\n",
    "            data.batch, data.x, data.edge_index, data.edge_attr)\n",
    "        # First graph conv layer\n",
    "        #print(x[0].item())\n",
    "        x = F.relu(self.conv1(x, edge_index, edge_attr).float())\n",
    "        # Second graph conv layer\n",
    "        x = F.relu(self.conv2(x, edge_index, edge_attr).float())\n",
    "        x = F.relu(self.conv3(x, edge_index, edge_attr).float())\n",
    "        x = F.relu(self.conv4(x, edge_index, edge_attr).float())\n",
    "        x = global_add_pool(x,batch)\n",
    "        x = F.relu(self.fc_1(x))\n",
    "        #output = F.log_softmax(self.out(x), dim=1)\n",
    "        output = torch.sigmoid(self.out(x))\n",
    "        \n",
    "        #output = self.out(x)\n",
    "        return output"
   ]
  },
  {
   "cell_type": "code",
   "execution_count": 7,
   "id": "26212a7c-48e0-4194-8f2f-31a31b6f8140",
   "metadata": {},
   "outputs": [],
   "source": [
    "class ExampleNet3(torch.nn.Module):\n",
    "    def __init__(self, num_node_features, num_edge_features):\n",
    "        super().__init__()\n",
    "        conv1_net = nn.Sequential(\n",
    "            nn.Linear(num_edge_features, 32),\n",
    "            nn.ReLU(),\n",
    "            nn.Linear(32, num_node_features*32))\n",
    "        conv2_net = nn.Sequential(\n",
    "            nn.Linear(num_edge_features, 32),\n",
    "            nn.ReLU(),\n",
    "            nn.Linear(32, 32*32))\n",
    "        conv3_net = nn.Sequential(\n",
    "            nn.Linear(num_edge_features, 32),\n",
    "            nn.ReLU(),\n",
    "            nn.Linear(32, 32*32))\n",
    "        conv4_net = nn.Sequential(\n",
    "            nn.Linear(num_edge_features, 32),\n",
    "            nn.ReLU(),\n",
    "            nn.Linear(32, 32*32))\n",
    "        conv5_net = nn.Sequential(\n",
    "            nn.Linear(num_edge_features, 32),\n",
    "            nn.ReLU(),\n",
    "            nn.Linear(32, 32*16))\n",
    "        self.conv1 = NNConv(num_node_features, 32, conv1_net)\n",
    "        self.conv2 = NNConv(32,32, conv2_net)\n",
    "        self.conv3 = NNConv(32,32, conv3_net)\n",
    "        self.conv4 = NNConv(32,32, conv4_net)\n",
    "        self.conv5 = NNConv(32,16, conv5_net)\n",
    "        self.fc_1 = nn.Linear(16, 32)\n",
    "        self.out = nn.Linear(32, 1)\n",
    "    def forward(self, data):\n",
    "        batch, x, edge_index, edge_attr = (\n",
    "            data.batch, data.x, data.edge_index, data.edge_attr)\n",
    "        # First graph conv layer\n",
    "        #print(x[0].item())\n",
    "        x = F.relu(self.conv1(x, edge_index, edge_attr).float())\n",
    "        # Second graph conv layer\n",
    "        x = F.relu(self.conv2(x, edge_index, edge_attr).float())\n",
    "        x = F.relu(self.conv3(x, edge_index, edge_attr).float())\n",
    "        x = F.relu(self.conv4(x, edge_index, edge_attr).float())\n",
    "        x = F.relu(self.conv5(x, edge_index, edge_attr).float())\n",
    "        x = global_add_pool(x,batch)\n",
    "        x = F.relu(self.fc_1(x))\n",
    "        #output = F.log_softmax(self.out(x), dim=1)\n",
    "        output = torch.sigmoid(self.out(x))\n",
    "        \n",
    "        #output = self.out(x)\n",
    "        return output"
   ]
  },
  {
   "cell_type": "code",
   "execution_count": 8,
   "id": "3181c6c5-03b7-46d7-a031-a5ddb75665f7",
   "metadata": {},
   "outputs": [],
   "source": [
    "class ExampleNet4(torch.nn.Module):\n",
    "    def __init__(self, num_node_features, num_edge_features):\n",
    "        super().__init__()\n",
    "        conv1_net = nn.Sequential(\n",
    "            nn.Linear(num_edge_features, 32),\n",
    "            nn.ReLU(),\n",
    "            nn.Linear(32, num_node_features*32))\n",
    "        conv2_net = nn.Sequential(\n",
    "            nn.Linear(num_edge_features, 32),\n",
    "            nn.ReLU(),\n",
    "            nn.Linear(32, 32*32))\n",
    "        conv3_net = nn.Sequential(\n",
    "            nn.Linear(num_edge_features, 32),\n",
    "            nn.ReLU(),\n",
    "            nn.Linear(32, 32*32))\n",
    "        conv4_net = nn.Sequential(\n",
    "            nn.Linear(num_edge_features, 32),\n",
    "            nn.ReLU(),\n",
    "            nn.Linear(32, 32*32))\n",
    "        conv5_net = nn.Sequential(\n",
    "            nn.Linear(num_edge_features, 32),\n",
    "            nn.ReLU(),\n",
    "            nn.Linear(32, 32*32))\n",
    "        conv6_net = nn.Sequential(\n",
    "            nn.Linear(num_edge_features, 32),\n",
    "            nn.ReLU(),\n",
    "            nn.Linear(32, 32*16))\n",
    "        self.conv1 = NNConv(num_node_features, 32, conv1_net)\n",
    "        self.conv2 = NNConv(32,32, conv2_net)\n",
    "        self.conv3 = NNConv(32,32, conv3_net)\n",
    "        self.conv4 = NNConv(32,32, conv4_net)\n",
    "        self.conv5 = NNConv(32,32, conv5_net)\n",
    "        self.conv6 = NNConv(32,16, conv6_net)\n",
    "        self.fc_1 = nn.Linear(16, 32)\n",
    "        self.out = nn.Linear(32, 1)\n",
    "    def forward(self, data):\n",
    "        batch, x, edge_index, edge_attr = (\n",
    "            data.batch, data.x, data.edge_index, data.edge_attr)\n",
    "        # First graph conv layer\n",
    "        #print(x[0].item())\n",
    "        x = F.relu(self.conv1(x, edge_index, edge_attr).float())\n",
    "        # Second graph conv layer\n",
    "        x = F.relu(self.conv2(x, edge_index, edge_attr).float())\n",
    "        x = F.relu(self.conv3(x, edge_index, edge_attr).float())\n",
    "        x = F.relu(self.conv4(x, edge_index, edge_attr).float())\n",
    "        x = F.relu(self.conv5(x, edge_index, edge_attr).float())\n",
    "        x = F.relu(self.conv6(x, edge_index, edge_attr).float())\n",
    "        x = global_add_pool(x,batch)\n",
    "        x = F.relu(self.fc_1(x))\n",
    "        #output = F.log_softmax(self.out(x), dim=1)\n",
    "        output = torch.sigmoid(self.out(x))\n",
    "        \n",
    "        #output = self.out(x)\n",
    "        return output"
   ]
  },
  {
   "cell_type": "code",
   "execution_count": 9,
   "id": "24d903d3-773c-40c1-b836-e983b47e46b5",
   "metadata": {},
   "outputs": [],
   "source": [
    "y_custom = []\n",
    "for i in range(0, len(data_list)):\n",
    "    #print('hi')\n",
    "    y_custom.append(data_list[i].y.item())\n",
    "y_custom = np.asarray(y_custom)\n",
    "\n",
    "from sklearn.model_selection import train_test_split\n",
    "#X_train, X_test, y_train, y_test = train_test_split(data_list, y_custom, stratify=y_custom, test_size = 0.2, random_state=42)\n",
    "\n",
    "X_train, X_test, y_train, y_test = train_test_split(data_list, y_custom, stratify=y_custom, test_size = 0.1, random_state=42)\n",
    "\n",
    "X_train, X_val, y_train, y_val = train_test_split(X_train, y_train, stratify=y_train, test_size=0.25, random_state=1) # 0.25 x 0.8 = 0.2\n",
    "\n",
    "#train_set, valid_set, test_set = random_split(\n",
    "#    data_list,[15000, 2000 , 2128])\n",
    "trainloader = DataLoader(X_train, batch_size=256, shuffle=True)\n",
    "validloader = DataLoader(X_val, batch_size=int(len(y_val)/10), shuffle=True)\n",
    "testloader = DataLoader(X_test, batch_size=256, shuffle=True)\n"
   ]
  },
  {
   "cell_type": "code",
   "execution_count": 10,
   "id": "45b5182f-0519-4fbd-9ce0-eca38b1b9202",
   "metadata": {},
   "outputs": [],
   "source": [
    "qm9_node_feats, qm9_edge_feats = 79, 10\n",
    "netList = []\n",
    "layers = 2\n",
    "net1 = ExampleNet0(qm9_node_feats, qm9_edge_feats)\n",
    "netList.append(net1)\n",
    "net2 = ExampleNet1(qm9_node_feats, qm9_edge_feats)\n",
    "netList.append(net2)\n",
    "net3 = ExampleNet2(qm9_node_feats, qm9_edge_feats)\n",
    "netList.append(net3)\n",
    "net4 = ExampleNet3(qm9_node_feats, qm9_edge_feats)\n",
    "netList.append(net4)\n",
    "net5 = ExampleNet4(qm9_node_feats, qm9_edge_feats)\n",
    "netList.append(net5)\n",
    "\n",
    "# initialize an optimizer with some reasonable parameters\n",
    "optimizer = []\n",
    "for i in range(0,5):\n",
    "    optimizer.append(torch.optim.Adam(\n",
    "        netList[i].parameters(), lr=0.001))\n",
    "epochs = 100\n",
    "target_idx = 1 # index position of the polarizability label\n",
    "device = torch.device(\"cuda:0\" if\n",
    "                      torch.cuda.is_available() else \"cpu\")\n",
    "for i in range(0,5):\n",
    "    netList[i].to(device)\n",
    "criterion = nn.BCELoss()"
   ]
  },
  {
   "cell_type": "code",
   "execution_count": 11,
   "id": "e728797d-ae63-458b-b444-bfdb796d86a1",
   "metadata": {},
   "outputs": [
    {
     "name": "stdout",
     "output_type": "stream",
     "text": [
      "Epochs: 0 | epoch avg. loss: 0.000213251729053879\n",
      "Epochs: 10 | epoch avg. loss: 0.0001672108748752582\n",
      "Epochs: 20 | epoch avg. loss: 0.00015391370187573046\n",
      "Epochs: 30 | epoch avg. loss: 0.00013917194168197646\n",
      "Epochs: 40 | epoch avg. loss: 0.00012834289794410952\n",
      "Epochs: 50 | epoch avg. loss: 0.00012179011461149518\n",
      "Epochs: 60 | epoch avg. loss: 0.00011709780956250763\n",
      "Epochs: 70 | epoch avg. loss: 0.0001112436415705691\n",
      "Epochs: 80 | epoch avg. loss: 0.00010612300781777513\n",
      "Epochs: 90 | epoch avg. loss: 0.00010100509989792153\n",
      "test acc [86.10365]\n",
      "Epochs: 0 | epoch avg. loss: 0.00028145601734320497\n",
      "Epochs: 10 | epoch avg. loss: 0.00017035704990982803\n",
      "Epochs: 20 | epoch avg. loss: 0.00014633744721199445\n",
      "Epochs: 30 | epoch avg. loss: 0.00013077151838154365\n",
      "Epochs: 40 | epoch avg. loss: 0.00011726351657712758\n",
      "Epochs: 50 | epoch avg. loss: 0.00010369802538674813\n",
      "Epochs: 60 | epoch avg. loss: 9.58781717885154e-05\n",
      "Epochs: 70 | epoch avg. loss: 8.755043899459983e-05\n",
      "Epochs: 80 | epoch avg. loss: 7.924201701643211e-05\n",
      "Epochs: 90 | epoch avg. loss: 7.632985382311417e-05\n",
      "test acc [91.399956]\n",
      "Epochs: 0 | epoch avg. loss: 0.00023455118802475665\n",
      "Epochs: 10 | epoch avg. loss: 0.00016699133121417839\n",
      "Epochs: 20 | epoch avg. loss: 0.00015222298410104906\n",
      "Epochs: 30 | epoch avg. loss: 0.00013698230414539397\n",
      "Epochs: 40 | epoch avg. loss: 0.0001232156863107409\n",
      "Epochs: 50 | epoch avg. loss: 0.00011191646384649992\n",
      "Epochs: 60 | epoch avg. loss: 0.00010240811532103862\n",
      "Epochs: 70 | epoch avg. loss: 9.224029599023326e-05\n",
      "Epochs: 80 | epoch avg. loss: 9.038847898749745e-05\n",
      "Epochs: 90 | epoch avg. loss: 7.823198192284002e-05\n",
      "test acc [92.5098]\n",
      "Epochs: 0 | epoch avg. loss: 0.0003533075803870005\n",
      "Epochs: 10 | epoch avg. loss: 0.0001667353389945522\n",
      "Epochs: 20 | epoch avg. loss: 0.0001416165277245572\n",
      "Epochs: 30 | epoch avg. loss: 0.0001267978759550481\n",
      "Epochs: 40 | epoch avg. loss: 0.00011270386160032899\n",
      "Epochs: 50 | epoch avg. loss: 0.00010095635685003787\n",
      "Epochs: 60 | epoch avg. loss: 8.889324412587116e-05\n",
      "Epochs: 70 | epoch avg. loss: 8.251778514548049e-05\n",
      "Epochs: 80 | epoch avg. loss: 7.188853199117705e-05\n",
      "Epochs: 90 | epoch avg. loss: 6.498868943607967e-05\n",
      "test acc [93.392525]\n",
      "Epochs: 0 | epoch avg. loss: 0.0032078260465432037\n",
      "Epochs: 10 | epoch avg. loss: 0.003206431858398597\n",
      "Epochs: 20 | epoch avg. loss: 0.0032082608999227636\n",
      "Epochs: 30 | epoch avg. loss: 0.003205517337636514\n",
      "Epochs: 40 | epoch avg. loss: 0.003206431858398597\n",
      "Epochs: 50 | epoch avg. loss: 0.003205517337636514\n",
      "Epochs: 60 | epoch avg. loss: 0.0032073463791606805\n",
      "Epochs: 70 | epoch avg. loss: 0.003206431858398597\n",
      "Epochs: 80 | epoch avg. loss: 0.0032082608999227636\n",
      "Epochs: 90 | epoch avg. loss: 0.0032082608999227636\n",
      "test acc [99.17923]\n"
     ]
    }
   ],
   "source": [
    "testAccList = []\n",
    "for i in range(0,5):\n",
    "    loss_list = []\n",
    "    valloss_list = []\n",
    "    val_acc_list = []\n",
    "    for total_epochs in range(epochs):\n",
    "        epoch_loss = 0\n",
    "        total_graphs = 0\n",
    "        netList[i].train()\n",
    "        train_avg_loss = 0\n",
    "        for batch in trainloader:\n",
    "           # print('hty')\n",
    "            batch.to(device)\n",
    "            optimizer[i].zero_grad()\n",
    "            output = netList[i](batch)\n",
    "            loss = criterion(output,batch.y.unsqueeze(1))\n",
    "            #loss = F.mse_loss(\n",
    "                #output,batch.y[:,target_idx].unsqueeze(1))\n",
    "               # output,batch.y.unsqueeze(1))\n",
    "            loss.backward()\n",
    "            epoch_loss += loss.item()\n",
    "            #print(epoch_loss)\n",
    "            total_graphs += batch.num_graphs\n",
    "            optimizer[i].step()\n",
    "        train_avg_loss = epoch_loss / total_graphs\n",
    "        if total_epochs % 10 == 0:\n",
    "            print(f\"Epochs: {total_epochs} | \"\n",
    "                  f\"epoch avg. loss: {train_avg_loss}\")\n",
    "    netList[i].eval()\n",
    "    predictions = []\n",
    "    real = []\n",
    "    for batch in testloader:\n",
    "        output = netList[i](batch.to(device))\n",
    "        prediction = output.detach().cpu().numpy()\n",
    "        predictions.append(prediction)\n",
    "        #print(prediction)\n",
    "        real.append(\n",
    "            batch.y.detach().cpu().numpy())\n",
    "    real = np.concatenate(real)\n",
    "    predictions = np.concatenate(predictions)\n",
    "\n",
    "    predictions = np.sort(predictions)\n",
    "    predictions = (predictions>0.008)\n",
    "    errorCount = 0\n",
    "\n",
    "\n",
    "    for i in range(len(predictions)):\n",
    "        errorCount = errorCount + abs(predictions[i]-real[i])\n",
    "\n",
    "    test_acc = ((len(predictions) - errorCount)/len(predictions))*100\n",
    "    testAccList.append(test_acc)\n",
    "    print(f'test acc {test_acc}')"
   ]
  },
  {
   "cell_type": "code",
   "execution_count": 14,
   "id": "d0b8b88c-0629-45cf-98cb-fd6faf8e8d88",
   "metadata": {},
   "outputs": [
    {
     "data": {
      "text/plain": [
       "[array([86.10365], dtype=float32),\n",
       " array([91.399956], dtype=float32),\n",
       " array([92.5098], dtype=float32),\n",
       " array([93.392525], dtype=float32),\n",
       " array([99.17923], dtype=float32)]"
      ]
     },
     "execution_count": 14,
     "metadata": {},
     "output_type": "execute_result"
    }
   ],
   "source": [
    "testAccList"
   ]
  },
  {
   "cell_type": "code",
   "execution_count": 13,
   "id": "c35e4088-2125-47bc-b82c-09f253729c1d",
   "metadata": {},
   "outputs": [],
   "source": [
    "import pickle\n",
    "with open('testAccList.pkl', 'wb') as f:\n",
    "    pickle.dump(testAccList, f)\n"
   ]
  },
  {
   "cell_type": "code",
   "execution_count": 37,
   "id": "e165895c-c5bd-468f-bc3c-b87d7f665ab6",
   "metadata": {},
   "outputs": [
    {
     "data": {
      "image/png": "[encoded data removed]",
      "text/plain": [
       "<Figure size 640x480 with 1 Axes>"
      ]
     },
     "metadata": {},
     "output_type": "display_data"
    }
   ],
   "source": [
    "import matplotlib.pyplot as plt\n",
    "step = np.linspace(2, 6, 5)\n",
    "plt.plot(step,np.array(testAccList))\n",
    "\n",
    "# Add title and axis names\n",
    "plt.title('Number of Layers vs Accuracy')\n",
    "plt.xlabel('Number of Layers')\n",
    "plt.ylabel('Accuracy')\n",
    "  \n",
    "# Show graph\n",
    "plt.show()"
   ]
  }
 ],
 "metadata": {
  "kernelspec": {
   "display_name": "Python 3 (ipykernel)",
   "language": "python",
   "name": "python3"
  },
  "language_info": {
   "codemirror_mode": {
    "name": "ipython",
    "version": 3
   },
   "file_extension": ".py",
   "mimetype": "text/x-python",
   "name": "python",
   "nbconvert_exporter": "python",
   "pygments_lexer": "ipython3",
   "version": "3.9.15"
  }
 },
 "nbformat": 4,
 "nbformat_minor": 5
}
