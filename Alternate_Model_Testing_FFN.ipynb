{
 "cells": [
  {
   "cell_type": "markdown",
   "id": "64fbe0fb-7b76-4e29-94ce-fdb70734cc1b",
   "metadata": {},
   "source": [
    "#### Defining imports"
   ]
  },
  {
   "cell_type": "code",
   "execution_count": 1,
   "id": "65c1db25-0c73-4dbf-affb-d087a5a71aea",
   "metadata": {},
   "outputs": [],
   "source": [
    "import torch\n",
    "import torch.nn as nn # All neural network modules, nn.Linear, nn.Conv2d, BatchNorm, Loss functions\n",
    "import torch.optim as optim # For all Optimization algorithms, SGD, Adam, etc.\n",
    "import torch.nn.functional as F # All functions that don't have any parameters\n",
    "from torch.utils.data import DataLoader # Gives easier dataset managment and creates mini batches\n",
    "import torchvision.datasets as datasets # Has standard datasets we can import in a nice and easy way\n",
    "import torchvision.transforms as transforms # Transformations we can perform on our dataset\n",
    "from torch.utils.data import TensorDataset\n",
    "import pandas as pd\n",
    "import numpy as np\n",
    "import torch.utils.data as data_utils\n",
    "from sklearn.model_selection import train_test_split"
   ]
  },
  {
   "cell_type": "markdown",
   "id": "c54d35db-0285-485d-a805-28cf8808a71d",
   "metadata": {},
   "source": [
    "#### Preparing training and testing dataset"
   ]
  },
  {
   "cell_type": "code",
   "execution_count": 2,
   "id": "317d0eed-7a17-4499-9bc7-348c67b6c4f9",
   "metadata": {},
   "outputs": [
    {
     "name": "stdout",
     "output_type": "stream",
     "text": [
      "All data \n",
      "        0  1  2  3  4  5  6  7  8  9  ...  2039  2040  2041  2042  2043  2044  \\\n",
      "0       1  1  1  1  1  0  0  0  1  0  ...     0     1     1     0     0     0   \n",
      "1       0  0  0  0  1  0  1  0  0  0  ...     1     0     0     0     0     0   \n",
      "2       1  0  0  0  1  0  1  0  0  0  ...     0     0     0     0     0     1   \n",
      "3       0  0  1  0  1  1  1  0  0  0  ...     1     0     0     0     0     0   \n",
      "4       1  1  1  0  1  1  1  0  0  0  ...     0     1     0     0     0     0   \n",
      "...    .. .. .. .. .. .. .. .. .. ..  ...   ...   ...   ...   ...   ...   ...   \n",
      "193709  1  0  1  1  1  0  1  0  0  0  ...     0     0     0     0     0     0   \n",
      "193710  1  1  1  0  1  0  1  0  1  0  ...     1     1     0     0     0     0   \n",
      "193711  1  1  1  0  1  0  0  0  1  0  ...     0     1     0     0     0     0   \n",
      "193712  1  1  1  1  1  0  0  0  0  0  ...     0     1     0     0     0     0   \n",
      "193713  1  0  1  1  1  1  1  0  0  0  ...     0     1     0     0     0     0   \n",
      "\n",
      "        2045  2046  2047  activity_label  \n",
      "0          0     0     0               0  \n",
      "1          0     0     0               0  \n",
      "2          0     0     0               0  \n",
      "3          0     0     0               0  \n",
      "4          0     0     0               1  \n",
      "...      ...   ...   ...             ...  \n",
      "193709     0     0     0               0  \n",
      "193710     0     0     0               0  \n",
      "193711     0     0     0               0  \n",
      "193712     0     0     0               0  \n",
      "193713     0     0     0               0  \n",
      "\n",
      "[193714 rows x 2049 columns]\n",
      "\n",
      "Train data \n",
      "        0  1  2  3  4  5  6  7  8  9  ...  2038  2039  2040  2041  2042  2043  \\\n",
      "0       1  1  1  1  1  0  0  0  1  0  ...     0     0     1     1     0     0   \n",
      "1       0  0  0  0  1  0  1  0  0  0  ...     0     1     0     0     0     0   \n",
      "2       1  0  0  0  1  0  1  0  0  0  ...     0     0     0     0     0     0   \n",
      "3       0  0  1  0  1  1  1  0  0  0  ...     0     1     0     0     0     0   \n",
      "4       1  1  1  0  1  1  1  0  0  0  ...     0     0     1     0     0     0   \n",
      "...    .. .. .. .. .. .. .. .. .. ..  ...   ...   ...   ...   ...   ...   ...   \n",
      "193709  1  0  1  1  1  0  1  0  0  0  ...     0     0     0     0     0     0   \n",
      "193710  1  1  1  0  1  0  1  0  1  0  ...     0     1     1     0     0     0   \n",
      "193711  1  1  1  0  1  0  0  0  1  0  ...     0     0     1     0     0     0   \n",
      "193712  1  1  1  1  1  0  0  0  0  0  ...     0     0     1     0     0     0   \n",
      "193713  1  0  1  1  1  1  1  0  0  0  ...     0     0     1     0     0     0   \n",
      "\n",
      "        2044  2045  2046  2047  \n",
      "0          0     0     0     0  \n",
      "1          0     0     0     0  \n",
      "2          1     0     0     0  \n",
      "3          0     0     0     0  \n",
      "4          0     0     0     0  \n",
      "...      ...   ...   ...   ...  \n",
      "193709     0     0     0     0  \n",
      "193710     0     0     0     0  \n",
      "193711     0     0     0     0  \n",
      "193712     0     0     0     0  \n",
      "193713     0     0     0     0  \n",
      "\n",
      "[193714 rows x 2048 columns]\n",
      "\n",
      "Labels \n",
      "0         0\n",
      "1         0\n",
      "2         0\n",
      "3         0\n",
      "4         1\n",
      "         ..\n",
      "193709    0\n",
      "193710    0\n",
      "193711    0\n",
      "193712    0\n",
      "193713    0\n",
      "Name: activity_label, Length: 193714, dtype: int64\n"
     ]
    }
   ],
   "source": [
    "dataframe_final = pd.read_csv(\"../fingerPrintDataAllChem2048\", index_col=False).drop([\"Unnamed: 0\"], axis =1)\n",
    "print(f'All data \\n{dataframe_final}')\n",
    "\n",
    "X_dataframe = dataframe_final.iloc[:,:dataframe_final.shape[1]-1]\n",
    "print(f'\\nTrain data \\n{X_dataframe}')\n",
    "\n",
    "y_dataframe = dataframe_final.iloc[:,-1]\n",
    "print(f'\\nLabels \\n{y_dataframe}')\n",
    "\n",
    "X_train, X_test, y_train, y_test = train_test_split(X_dataframe, y_dataframe, stratify=y_dataframe, test_size = 0.2, random_state=42)\n",
    "\n",
    "\n",
    "batch_size = 256\n",
    "X_train_torch = torch.from_numpy(X_train.values.astype(np.float32))\n",
    "y_train_torch = torch.from_numpy(y_train.values.astype(np.float32))\n",
    "X_test_torch = torch.from_numpy(X_test.values.astype(np.float32))\n",
    "y_test_torch = torch.from_numpy(y_test.values.astype(np.float32))\n",
    "\n",
    "train_ds = TensorDataset(X_train_torch, y_train_torch)\n",
    "train_loader = DataLoader(train_ds, batch_size, shuffle=True)\n",
    "\n",
    "test_ds = TensorDataset(X_test_torch, y_test_torch)\n",
    "test_loader = DataLoader(test_ds, batch_size, shuffle=True)"
   ]
  },
  {
   "cell_type": "markdown",
   "id": "3d598069-3f76-408a-9e1d-b219731810c3",
   "metadata": {},
   "source": [
    "#### Build Model"
   ]
  },
  {
   "cell_type": "code",
   "execution_count": 3,
   "id": "eb1c7795-de97-4862-92a1-35974b328d36",
   "metadata": {},
   "outputs": [],
   "source": [
    "class NN(nn.Module):\n",
    "    def __init__(self, input_size, num_classes):\n",
    "        super(NN, self).__init__()\n",
    "        self.fc1 = nn.Linear(input_size, 1024)\n",
    "        self.fc2 = nn.Linear(1024, 250)\n",
    "        self.fc3 = nn.Linear(250, num_classes)\n",
    "\n",
    "    def forward(self, x):\n",
    "        x = F.relu(self.fc1(x))\n",
    "        x = F.relu(self.fc2(x))\n",
    "        x = self.fc3(x)\n",
    "        return x "
   ]
  },
  {
   "cell_type": "markdown",
   "id": "b6c7ae33-1976-4ea9-8f0c-97e3722c9821",
   "metadata": {},
   "source": [
    "#### Defining hyperparameters"
   ]
  },
  {
   "cell_type": "code",
   "execution_count": 4,
   "id": "9377b003-e027-4932-98b4-21e4cd642c48",
   "metadata": {},
   "outputs": [],
   "source": [
    "device = torch.device(\"cuda\" if torch.cuda.is_available() else \"cpu\")\n",
    "input_size = 2048\n",
    "num_classes = 2\n",
    "learning_rate = 0.0001\n",
    "#num_epochs = 10\n",
    "\n",
    "batch_size = 256\n",
    "n_iters = 70000\n",
    "num_epochs = n_iters / (len(train_ds) / batch_size)\n",
    "num_epochs = int(num_epochs)\n",
    "\n",
    "model = NN(input_size=input_size, num_classes=num_classes).to(device)\n",
    "criterion = nn.CrossEntropyLoss()\n",
    "optimizer = optim.Adam(model.parameters(), lr=learning_rate)"
   ]
  },
  {
   "cell_type": "markdown",
   "id": "a89c16e4-9a6b-41d5-a75a-eff2141d145c",
   "metadata": {},
   "source": [
    "#### Model training"
   ]
  },
  {
   "cell_type": "code",
   "execution_count": 5,
   "id": "df523ffc-fc58-4f91-83e9-8d85bb878c3a",
   "metadata": {},
   "outputs": [
    {
     "name": "stdout",
     "output_type": "stream",
     "text": [
      "torch.Size([256, 2048])\n",
      "torch.Size([256])\n"
     ]
    }
   ],
   "source": [
    "for batch_idx, (data, targets) in enumerate(train_loader):\n",
    "    print(data.shape)\n",
    "    print(targets.shape)\n",
    "    \n",
    "    break"
   ]
  },
  {
   "cell_type": "code",
   "execution_count": 6,
   "id": "637146c2-1efe-4440-9b1d-f5ab5bc59063",
   "metadata": {},
   "outputs": [
    {
     "name": "stdout",
     "output_type": "stream",
     "text": [
      "Epoch 0  Loss 0.1033\n",
      "Epoch 10  Loss 0.0002\n",
      "Epoch 20  Loss 0.0000\n",
      "Epoch 30  Loss 0.0000\n",
      "Epoch 40  Loss 0.0079\n",
      "Epoch 50  Loss 0.0000\n",
      "Epoch 60  Loss 0.0000\n",
      "Epoch 70  Loss 0.0000\n",
      "Epoch 80  Loss 0.0000\n",
      "Epoch 90  Loss 0.0000\n",
      "Epoch 100  Loss 0.0000\n",
      "Epoch 110  Loss 0.0000\n"
     ]
    }
   ],
   "source": [
    "for epoch in range(num_epochs):\n",
    "    #print(f\"Epoch: {epoch}\")\n",
    "    for batch_idx, (data, targets) in enumerate(train_loader):\n",
    "        # Get data to cuda if possible\n",
    "        data = data.to(device=device)\n",
    "        targets = targets.to(device=device)\n",
    "        targets=targets.to(torch.int64)\n",
    "\n",
    "        # forward propagation\n",
    "        scores = model(data)\n",
    "        #print(scores)\n",
    "        loss = criterion(scores, targets)\n",
    "        \n",
    "        # zero previous gradients\n",
    "        optimizer.zero_grad()\n",
    "        \n",
    "        # back-propagation\n",
    "        loss.backward()\n",
    "\n",
    "        # gradient descent or adam step\n",
    "        optimizer.step()\n",
    "    if epoch % 10 == 0:\n",
    "        print(f'Epoch {epoch}  Loss {loss.item():.4f}')"
   ]
  },
  {
   "cell_type": "markdown",
   "id": "97d6ccd5-a2e6-4d58-9c81-3d193a770a78",
   "metadata": {},
   "source": [
    "#### Model Testing"
   ]
  },
  {
   "cell_type": "code",
   "execution_count": 7,
   "id": "3dad960b-72a6-40ed-b206-e06afd189a0a",
   "metadata": {},
   "outputs": [],
   "source": [
    "def check_accuracy(loader, model):\n",
    "    num_correct = 0\n",
    "    num_samples = 0\n",
    "    model.eval()\n",
    "    predictionArr = []\n",
    "    with torch.no_grad():\n",
    "        for x, y in loader:\n",
    "            x = x.to(device=device)\n",
    "            y = y.to(device=device)\n",
    "            x = x.reshape(x.shape[0], -1)\n",
    "\n",
    "            scores = model(x)\n",
    "            _, predictions = scores.max(1)\n",
    "            predictionArr.append(predictions)\n",
    "            num_correct += (predictions == y).sum()\n",
    "            num_samples += predictions.size(0)\n",
    "\n",
    "        print(\n",
    "            f\"Got {num_correct} / {num_samples} with accuracy\"\n",
    "            f\" {float(num_correct) / float(num_samples) * 100:.2f}\"\n",
    "        )\n",
    "\n",
    "    model.train()\n",
    "    return predictionArr"
   ]
  },
  {
   "cell_type": "markdown",
   "id": "0c894189-d09c-4539-a10b-17f7b8cfa3d2",
   "metadata": {},
   "source": [
    "#### Evaluation"
   ]
  },
  {
   "cell_type": "code",
   "execution_count": 8,
   "id": "a6a8df17-b304-48f5-a293-99e724e27110",
   "metadata": {},
   "outputs": [
    {
     "name": "stdout",
     "output_type": "stream",
     "text": [
      "Got 154954 / 154971 with accuracy 99.99\n",
      "Got 38433 / 38743 with accuracy 99.20\n"
     ]
    }
   ],
   "source": [
    "predictions_train = check_accuracy(train_loader, model)\n",
    "predictions_test = check_accuracy(test_loader, model)"
   ]
  },
  {
   "cell_type": "code",
   "execution_count": 9,
   "id": "90aa7578-7b42-4a20-b6e5-ad439e716471",
   "metadata": {},
   "outputs": [],
   "source": [
    "finalTrainPredictions = []\n",
    "for t,l in enumerate(predictions_train):\n",
    "    for p in l:\n",
    "        finalTrainPredictions.append(p.cpu().detach().numpy())\n",
    "        \n",
    "finalTestPredictions = []\n",
    "for t,l in enumerate(predictions_test):\n",
    "    for p in l:\n",
    "        finalTestPredictions.append(p.cpu().detach().numpy())\n",
    "\n",
    "finalTrainPredictions = np.array(finalTrainPredictions)\n",
    "finalTestPredictions = np.array(finalTestPredictions)"
   ]
  },
  {
   "cell_type": "code",
   "execution_count": 10,
   "id": "065b869c-5d46-4977-878b-d72bbba95261",
   "metadata": {},
   "outputs": [
    {
     "data": {
      "text/plain": [
       "array([0, 0, 0, ..., 0, 0, 0])"
      ]
     },
     "execution_count": 10,
     "metadata": {},
     "output_type": "execute_result"
    }
   ],
   "source": [
    "#m = np.array(y_test)\n",
    "#finalTestPredictions"
   ]
  },
  {
   "cell_type": "code",
   "execution_count": 11,
   "id": "334334f2-13c2-4911-883e-e67b2c8af786",
   "metadata": {},
   "outputs": [
    {
     "name": "stdout",
     "output_type": "stream",
     "text": [
      "Actual Unique values for testing data: [0 1]\n",
      "Actual Count of zeros and ones for testing data: [38425   318]\n",
      "Predicted Unique values for testing data: [0 1]\n",
      "Predicted Count of zeros and ones for testing data: [38637   106]\n"
     ]
    }
   ],
   "source": [
    "unique, counts = np.unique(m, return_counts=True)\n",
    "print(f'Actual Unique values for testing data: {unique}')\n",
    "print(f'Actual Count of zeros and ones for testing data: {counts}')\n",
    "unique, counts = np.unique(finalTestPredictions, return_counts=True)\n",
    "print(f'Predicted Unique values for testing data: {unique}')\n",
    "print(f'Predicted Count of zeros and ones for testing data: {counts}')"
   ]
  },
  {
   "cell_type": "code",
   "execution_count": 12,
   "id": "569f41f2-1dc8-4e88-8547-69b650e6d279",
   "metadata": {},
   "outputs": [
    {
     "data": {
      "image/png": "[encoded data removed]",
      "text/plain": [
       "<Figure size 640x480 with 2 Axes>"
      ]
     },
     "metadata": {},
     "output_type": "display_data"
    }
   ],
   "source": [
    "# https://scikit-learn.org/stable/modules/generated/sklearn.metrics.ConfusionMatrixDisplay.html\n",
    "\n",
    "import matplotlib.pyplot as plt\n",
    "plt.style.use('default')\n",
    "\n",
    "from sklearn.datasets import make_classification\n",
    "from sklearn.metrics import confusion_matrix, ConfusionMatrixDisplay\n",
    "\n",
    "cm = confusion_matrix(m, finalTestPredictions, labels=[0, 1])\n",
    "disp = ConfusionMatrixDisplay(confusion_matrix=cm,\n",
    "                              display_labels=[0, 1])\n",
    "disp.plot()\n",
    "plt.yticks(ticks = [0,1], labels=['Inactive', 'Active'])\n",
    "plt.xticks(ticks = [0,1], labels=['Inactive', 'Active'])\n",
    "plt.title(\"Confusion Matrix - Predictions of Biological Activity\\n\")\n",
    "plt.show()"
   ]
  },
  {
   "cell_type": "code",
   "execution_count": null,
   "id": "7c3be5f0-0e69-4dd8-a815-20e234fa0b62",
   "metadata": {},
   "outputs": [],
   "source": []
  }
 ],
 "metadata": {
  "kernelspec": {
   "display_name": "Python 3 (ipykernel)",
   "language": "python",
   "name": "python3"
  },
  "language_info": {
   "codemirror_mode": {
    "name": "ipython",
    "version": 3
   },
   "file_extension": ".py",
   "mimetype": "text/x-python",
   "name": "python",
   "nbconvert_exporter": "python",
   "pygments_lexer": "ipython3",
   "version": "3.9.15"
  }
 },
 "nbformat": 4,
 "nbformat_minor": 5
}
