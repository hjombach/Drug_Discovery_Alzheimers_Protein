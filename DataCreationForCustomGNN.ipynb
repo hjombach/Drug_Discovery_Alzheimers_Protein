{
 "cells": [
  {
   "cell_type": "markdown",
   "id": "08e78825-e290-44dd-813e-0cc7b9b4aecc",
   "metadata": {},
   "source": [
    "#### Following notebook is used to create graph object for custom graphical neural network"
   ]
  },
  {
   "cell_type": "markdown",
   "id": "1e78f445-5be9-454b-a2a1-a44730c84666",
   "metadata": {},
   "source": [
    "#### Import libraries"
   ]
  },
  {
   "cell_type": "code",
   "execution_count": 12,
   "id": "26042a08-74c3-4506-bd65-2da5d5c4d667",
   "metadata": {},
   "outputs": [],
   "source": [
    "# import packages\n",
    "\n",
    "# general tools\n",
    "import numpy as np\n",
    "\n",
    "# RDkit\n",
    "from rdkit import Chem\n",
    "from rdkit.Chem.rdmolops import GetAdjacencyMatrix\n",
    "\n",
    "# Pytorch and Pytorch Geometric\n",
    "import torch\n",
    "from torch_geometric.data import Data\n",
    "from torch.utils.data import DataLoader"
   ]
  },
  {
   "cell_type": "markdown",
   "id": "fa86aa07-1793-4326-bb17-17efa544eba0",
   "metadata": {},
   "source": [
    "#### One hot encoding for feature representation"
   ]
  },
  {
   "cell_type": "code",
   "execution_count": 13,
   "id": "ea242e54-6955-41de-9701-dcbbde90ae0c",
   "metadata": {},
   "outputs": [],
   "source": [
    "def one_hot_encoding(x, permitted_list):\n",
    "    \"\"\"\n",
    "    Maps input elements x which are not in the permitted list to the last element\n",
    "    of the permitted list.\n",
    "    \"\"\"\n",
    "    if x not in permitted_list:\n",
    "        x = permitted_list[-1]\n",
    "    binary_encoding = [int(boolean_value) for boolean_value in list(map(lambda s: x == s, permitted_list))]\n",
    "    return binary_encoding"
   ]
  },
  {
   "cell_type": "code",
   "execution_count": 14,
   "id": "5b7147db-42e9-4032-bb25-b81b1a8c7976",
   "metadata": {},
   "outputs": [],
   "source": [
    "def get_atom_features(atom, \n",
    "                      use_chirality = True, \n",
    "                      hydrogens_implicit = True):\n",
    "    \"\"\"\n",
    "    Takes an RDKit atom object as input and gives a 1d-numpy array of atom features as output.\n",
    "    \"\"\"\n",
    "\n",
    "    # define list of permitted atoms\n",
    "    \n",
    "    permitted_list_of_atoms =  ['C','N','O','S','F','Si','P','Cl','Br','Mg','Na','Ca','Fe','As','Al','I', 'B','V','K','Tl','Yb','Sb','Sn','Ag','Pd','Co','Se','Ti','Zn', 'Li','Ge','Cu','Au','Ni','Cd','In','Mn','Zr','Cr','Pt','Hg','Pb','Unknown']\n",
    "    \n",
    "    if hydrogens_implicit == False:\n",
    "        permitted_list_of_atoms = ['H'] + permitted_list_of_atoms\n",
    "    \n",
    "    # compute atom features\n",
    "    \n",
    "    atom_type_enc = one_hot_encoding(str(atom.GetSymbol()), permitted_list_of_atoms)\n",
    "    \n",
    "    n_heavy_neighbors_enc = one_hot_encoding(int(atom.GetDegree()), [0, 1, 2, 3, 4, \"MoreThanFour\"])\n",
    "    \n",
    "    formal_charge_enc = one_hot_encoding(int(atom.GetFormalCharge()), [-3, -2, -1, 0, 1, 2, 3, \"Extreme\"])\n",
    "    \n",
    "    hybridisation_type_enc = one_hot_encoding(str(atom.GetHybridization()), [\"S\", \"SP\", \"SP2\", \"SP3\", \"SP3D\", \"SP3D2\", \"OTHER\"])\n",
    "    \n",
    "    is_in_a_ring_enc = [int(atom.IsInRing())]\n",
    "    \n",
    "    is_aromatic_enc = [int(atom.GetIsAromatic())]\n",
    "    \n",
    "    atomic_mass_scaled = [float((atom.GetMass() - 10.812)/116.092)]\n",
    "    \n",
    "    vdw_radius_scaled = [float((Chem.GetPeriodicTable().GetRvdw(atom.GetAtomicNum()) - 1.5)/0.6)]\n",
    "    \n",
    "    covalent_radius_scaled = [float((Chem.GetPeriodicTable().GetRcovalent(atom.GetAtomicNum()) - 0.64)/0.76)]\n",
    "\n",
    "    atom_feature_vector = atom_type_enc + n_heavy_neighbors_enc + formal_charge_enc + hybridisation_type_enc + is_in_a_ring_enc + is_aromatic_enc + atomic_mass_scaled + vdw_radius_scaled + covalent_radius_scaled\n",
    "                                    \n",
    "    if use_chirality == True:\n",
    "        chirality_type_enc = one_hot_encoding(str(atom.GetChiralTag()), [\"CHI_UNSPECIFIED\", \"CHI_TETRAHEDRAL_CW\", \"CHI_TETRAHEDRAL_CCW\", \"CHI_OTHER\"])\n",
    "        atom_feature_vector += chirality_type_enc\n",
    "    \n",
    "    if hydrogens_implicit == True:\n",
    "        n_hydrogens_enc = one_hot_encoding(int(atom.GetTotalNumHs()), [0, 1, 2, 3, 4, \"MoreThanFour\"])\n",
    "        atom_feature_vector += n_hydrogens_enc\n",
    "\n",
    "    return np.array(atom_feature_vector)"
   ]
  },
  {
   "cell_type": "code",
   "execution_count": 15,
   "id": "f7b055a6-6438-43bb-b59f-1277b037ef33",
   "metadata": {},
   "outputs": [],
   "source": [
    "def get_bond_features(bond, \n",
    "                      use_stereochemistry = True):\n",
    "    \"\"\"\n",
    "    Takes an RDKit bond object as input and gives a 1d-numpy array of bond features as output.\n",
    "    \"\"\"\n",
    "\n",
    "    permitted_list_of_bond_types = [Chem.rdchem.BondType.SINGLE, Chem.rdchem.BondType.DOUBLE, Chem.rdchem.BondType.TRIPLE, Chem.rdchem.BondType.AROMATIC]\n",
    "\n",
    "    bond_type_enc = one_hot_encoding(bond.GetBondType(), permitted_list_of_bond_types)\n",
    "    \n",
    "    bond_is_conj_enc = [int(bond.GetIsConjugated())]\n",
    "    \n",
    "    bond_is_in_ring_enc = [int(bond.IsInRing())]\n",
    "    \n",
    "    bond_feature_vector = bond_type_enc + bond_is_conj_enc + bond_is_in_ring_enc\n",
    "    \n",
    "    if use_stereochemistry == True:\n",
    "        stereo_type_enc = one_hot_encoding(str(bond.GetStereo()), [\"STEREOZ\", \"STEREOE\", \"STEREOANY\", \"STEREONONE\"])\n",
    "        bond_feature_vector += stereo_type_enc\n",
    "\n",
    "    return np.array(bond_feature_vector)"
   ]
  },
  {
   "cell_type": "markdown",
   "id": "617b110d-e675-41a0-a409-4069a97b2a70",
   "metadata": {},
   "source": [
    "#### Method to create graph object"
   ]
  },
  {
   "cell_type": "code",
   "execution_count": 16,
   "id": "44941e2e-2048-45b4-aeb6-652e890cef78",
   "metadata": {},
   "outputs": [],
   "source": [
    "def create_pytorch_geometric_graph_data_list_from_smiles_and_labels(x_smiles, y):\n",
    "    \"\"\"\n",
    "    Inputs:\n",
    "    \n",
    "    x_smiles = [smiles_1, smiles_2, ....] ... a list of SMILES strings\n",
    "    y = [y_1, y_2, ...] ... a list of numerial labels for the SMILES strings (such as associated pKi values)\n",
    "    \n",
    "    Outputs:\n",
    "    \n",
    "    data_list = [G_1, G_2, ...] ... a list of torch_geometric.data.Data objects which represent labeled molecular graphs that can readily be used for machine learning\n",
    "    \n",
    "    \"\"\"\n",
    "    \n",
    "    data_list = []\n",
    "    \n",
    "    for (smiles, y_val) in zip(x_smiles, y):\n",
    "        \n",
    "        # convert SMILES to RDKit mol object\n",
    "        mol = Chem.MolFromSmiles(smiles)\n",
    "\n",
    "        # get feature dimensions\n",
    "        n_nodes = mol.GetNumAtoms()\n",
    "        n_edges = 2*mol.GetNumBonds()\n",
    "        unrelated_smiles = \"O=O\"\n",
    "        unrelated_mol = Chem.MolFromSmiles(unrelated_smiles)\n",
    "        n_node_features = len(get_atom_features(unrelated_mol.GetAtomWithIdx(0)))\n",
    "        n_edge_features = len(get_bond_features(unrelated_mol.GetBondBetweenAtoms(0,1)))\n",
    "\n",
    "        # construct node feature matrix X of shape (n_nodes, n_node_features)\n",
    "        X = np.zeros((n_nodes, n_node_features))\n",
    "\n",
    "        for atom in mol.GetAtoms():\n",
    "            X[atom.GetIdx(), :] = get_atom_features(atom)\n",
    "            \n",
    "        X = torch.tensor(X, dtype = torch.float)\n",
    "        \n",
    "        # construct edge index array E of shape (2, n_edges)\n",
    "        (rows, cols) = np.nonzero(GetAdjacencyMatrix(mol))\n",
    "        torch_rows = torch.from_numpy(rows.astype(np.int64)).to(torch.long)\n",
    "        torch_cols = torch.from_numpy(cols.astype(np.int64)).to(torch.long)\n",
    "        E = torch.stack([torch_rows, torch_cols], dim = 0)\n",
    "        \n",
    "        # construct edge feature array EF of shape (n_edges, n_edge_features)\n",
    "        EF = np.zeros((n_edges, n_edge_features))\n",
    "        \n",
    "        for (k, (i,j)) in enumerate(zip(rows, cols)):\n",
    "            \n",
    "            EF[k] = get_bond_features(mol.GetBondBetweenAtoms(int(i),int(j)))\n",
    "        \n",
    "        EF = torch.tensor(EF, dtype = torch.float)\n",
    "        \n",
    "        # construct label tensor\n",
    "        y_tensor = torch.tensor(np.array([y_val]), dtype = torch.float)\n",
    "        \n",
    "        # construct Pytorch Geometric data object and append to data list\n",
    "        data_list.append(Data(x = X, edge_index = E, edge_attr = EF, y = y_tensor))\n",
    "\n",
    "    return data_list"
   ]
  },
  {
   "cell_type": "markdown",
   "id": "ff0cfadc-1c9d-49b3-a80a-816db92c8791",
   "metadata": {},
   "source": [
    "#### Save geometric data in pickle file"
   ]
  },
  {
   "cell_type": "code",
   "execution_count": null,
   "id": "b49cc5af-c7b0-4b23-87cb-7510b121bcdc",
   "metadata": {},
   "outputs": [
    {
     "name": "stderr",
     "output_type": "stream",
     "text": [
      "[15:45:48] WARNING: not removing hydrogen atom without neighbors\n",
      "[15:49:01] WARNING: not removing hydrogen atom without neighbors\n"
     ]
    }
   ],
   "source": [
    "# canonical training loop for a Pytorch Geometric GNN model gnn_model\n",
    "import pickle\n",
    "import pandas as pd\n",
    "\n",
    "#df = pandas.read_csv('final_df.csv')\n",
    "\n",
    "df = pd.read_pickle(\"full_dataset2.pickle\")\n",
    "#df = pandas.read_csv('Pubchem_Compounds.csv')\n",
    "\n",
    "active_target = df['activity_label'].values\n",
    "isomeric_smiles = df['isosmiles'].values\n",
    "df.head()\n",
    "#create list of molecular graph objects from list of SMILES isomeric_smiles and list of labels active_target\n",
    "data_list = create_pytorch_geometric_graph_data_list_from_smiles_and_labels(isomeric_smiles, active_target)\n",
    "\n",
    "with open('smilesDataNew.pkl', 'wb') as f:\n",
    "    pickle.dump(data_list, f)"
   ]
  },
  {
   "cell_type": "markdown",
   "id": "e0ee8dff-3526-4ed8-ba3d-04cc107777a3",
   "metadata": {},
   "source": [
    "#### Data representation"
   ]
  },
  {
   "cell_type": "code",
   "execution_count": 43,
   "id": "c471343c-bec1-4392-97b2-eb509be2fcf8",
   "metadata": {
    "tags": []
   },
   "outputs": [
    {
     "name": "stdout",
     "output_type": "stream",
     "text": [
      "19128\n",
      "19128\n",
      "[Data(x=[25, 79], edge_index=[2, 54], edge_attr=[54, 10], y=[1]), Data(x=[18, 79], edge_index=[2, 34], edge_attr=[34, 10], y=[1]), Data(x=[21, 79], edge_index=[2, 46], edge_attr=[46, 10], y=[1]), Data(x=[36, 79], edge_index=[2, 80], edge_attr=[80, 10], y=[1]), Data(x=[22, 79], edge_index=[2, 46], edge_attr=[46, 10], y=[1]), Data(x=[21, 79], edge_index=[2, 42], edge_attr=[42, 10], y=[1]), Data(x=[25, 79], edge_index=[2, 52], edge_attr=[52, 10], y=[1]), Data(x=[24, 79], edge_index=[2, 52], edge_attr=[52, 10], y=[1]), Data(x=[26, 79], edge_index=[2, 56], edge_attr=[56, 10], y=[1]), Data(x=[18, 79], edge_index=[2, 40], edge_attr=[40, 10], y=[1])]\n"
     ]
    }
   ],
   "source": [
    "print(len(isomeric_smiles))\n",
    "print(len(data_list))\n",
    "print(data_list[0:10])"
   ]
  },
  {
   "cell_type": "code",
   "execution_count": 44,
   "id": "0b1e9498-e794-4f5f-8558-927a9ce61d00",
   "metadata": {},
   "outputs": [
    {
     "name": "stdout",
     "output_type": "stream",
     "text": [
      "19128\n",
      "19128\n",
      "tensor([[1., 0., 0.,  ..., 0., 0., 0.],\n",
      "        [1., 0., 0.,  ..., 0., 0., 0.],\n",
      "        [0., 0., 1.,  ..., 0., 0., 0.],\n",
      "        ...,\n",
      "        [1., 0., 0.,  ..., 0., 0., 0.],\n",
      "        [0., 0., 0.,  ..., 0., 0., 0.],\n",
      "        [0., 0., 0.,  ..., 0., 0., 0.]])\n"
     ]
    }
   ],
   "source": [
    "print(len(isomeric_smiles))\n",
    "print(len(data_list))\n",
    "print(data_list[0].x)"
   ]
  }
 ],
 "metadata": {
  "kernelspec": {
   "display_name": "Python 3 (ipykernel)",
   "language": "python",
   "name": "python3"
  },
  "language_info": {
   "codemirror_mode": {
    "name": "ipython",
    "version": 3
   },
   "file_extension": ".py",
   "mimetype": "text/x-python",
   "name": "python",
   "nbconvert_exporter": "python",
   "pygments_lexer": "ipython3",
   "version": "3.9.15"
  }
 },
 "nbformat": 4,
 "nbformat_minor": 5
}
